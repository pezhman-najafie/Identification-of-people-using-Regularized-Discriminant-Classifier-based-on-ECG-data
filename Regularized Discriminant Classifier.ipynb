{
 "cells": [
  {
   "cell_type": "code",
   "execution_count": 2,
   "metadata": {
    "collapsed": true
   },
   "outputs": [
    {
     "name": "stdout",
     "output_type": "stream",
     "text": [
      "Lambda: 0.1, Accuracy: 81.25%\n",
      "Lambda: 0.5, Accuracy: 81.25%\n",
      "Lambda: 1, Accuracy: 81.25%\n",
      "Lambda: 5, Accuracy: 87.50%\n",
      "Lambda: 10, Accuracy: 87.50%\n",
      "Best lanbda: 5\n",
      "Best model accuracy on test set: 87.5\n",
      "Lambda: 0.1, Accuracy: 81.25%\n",
      "Lambda: 0.5, Accuracy: 81.25%\n",
      "Lambda: 1, Accuracy: 81.25%\n",
      "Lambda: 5, Accuracy: 87.50%\n",
      "Lambda: 10, Accuracy: 87.50%\n",
      "Best lambda: 5\n",
      "Best model accuracy on test set: 87.5\n"
     ]
    }
   ],
   "source": [
    "import numpy as np\n",
    "from sklearn.model_selection import train_test_split, GridSearchCV\n",
    "from sklearn.metrics import accuracy_score\n",
    "\n",
    "# Load the data from the .mat file\n",
    "import scipy.io\n",
    "data = scipy.io.loadmat(r'C:\\Users\\pezhm\\Desktop\\DESK\\ta\\1.mat')\n",
    "\n",
    "# Extract training data and labels\n",
    "X = data['Data_Train_ML']\n",
    "y = data['Label_Train_ML'].ravel()\n",
    "\n",
    "# Split the data into training and test sets\n",
    "X_train, X_test, y_train, y_test = train_test_split(X, y, test_size=0.2, random_state=42)\n",
    "\n",
    "class RegularizedDiscriminantClassifier:\n",
    "    def __init__(self, lambda_param=0.1):\n",
    "        self.lambda_param = lambda_param\n",
    "\n",
    "    def fit(self, X, y):\n",
    "        self.classes_ = np.unique(y)\n",
    "        self.means_ = {}\n",
    "        self.cov_ = np.cov(X, rowvar=False)\n",
    "        self.inv_cov_ = None\n",
    "\n",
    "        # Regularize the covariance matrix\n",
    "        self.cov_ += self.lambda_param * np.eye(X.shape[1])\n",
    "        self.inv_cov_ = np.linalg.inv(self.cov_)\n",
    "\n",
    "        for cls in self.classes_:\n",
    "            self.means_[cls] = np.mean(X[y == cls], axis=0)\n",
    "\n",
    "    def predict(self, X):\n",
    "        predictions = []\n",
    "        for sample in X:\n",
    "            scores = []\n",
    "            for cls in self.classes_:\n",
    "                mean_diff = sample - self.means_[cls]\n",
    "                score = -0.5 * np.dot(np.dot(mean_diff.T, self.inv_cov_), mean_diff)\n",
    "                scores.append(score)\n",
    "            predictions.append(self.classes_[np.argmax(scores)])\n",
    "        return np.array(predictions)\n",
    "\n",
    "# Define the parameter space for grid search\n",
    "param_grid = {'lambda_param': [0.1, 0.5, 1, 5, 10]}\n",
    "\n",
    "# Perform grid search manually\n",
    "best_accuracy = 0\n",
    "best_lambda = None\n",
    "for param in param_grid['lambda_param']:\n",
    "    rdc = RegularizedDiscriminantClassifier(lambda_param=param)\n",
    "    rdc.fit(X_train, y_train)\n",
    "    y_pred = rdc.predict(X_test)\n",
    "    accuracy = accuracy_score(y_test, y_pred)\n",
    "    print(f\"Lambda: {param}, Accuracy: {accuracy * 100:.2f}%\")\n",
    "    if accuracy > best_accuracy:\n",
    "        best_accuracy = accuracy\n",
    "        best_lambda = param\n",
    "\n",
    "print(\"Best lambda:\", best_lambda)\n",
    "print(\"Best model accuracy on test set:\", best_accuracy * 100)"
   ]
  },
  {
   "cell_type": "code",
   "execution_count": null,
   "outputs": [],
   "source": [],
   "metadata": {
    "collapsed": false,
    "pycharm": {
     "name": "#%%\n"
    }
   }
  }
 ],
 "metadata": {
  "kernelspec": {
   "display_name": "Python 3",
   "language": "python",
   "name": "python3"
  },
  "language_info": {
   "codemirror_mode": {
    "name": "ipython",
    "version": 2
   },
   "file_extension": ".py",
   "mimetype": "text/x-python",
   "name": "python",
   "nbconvert_exporter": "python",
   "pygments_lexer": "ipython2",
   "version": "2.7.6"
  }
 },
 "nbformat": 4,
 "nbformat_minor": 0
}